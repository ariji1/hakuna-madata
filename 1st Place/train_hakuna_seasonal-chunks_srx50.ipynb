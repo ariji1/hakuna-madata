{
 "cells": [
  {
   "cell_type": "code",
   "execution_count": 4,
   "metadata": {
    "colab": {},
    "colab_type": "code",
    "id": "Jt-mpsjf6I_c"
   },
   "outputs": [
    {
     "name": "stdout",
     "output_type": "stream",
     "text": [
      "Thu Feb 20 15:05:32 2020       \r\n",
      "+-----------------------------------------------------------------------------+\r\n",
      "| NVIDIA-SMI 440.33.01    Driver Version: 440.33.01    CUDA Version: 10.2     |\r\n",
      "|-------------------------------+----------------------+----------------------+\r\n",
      "| GPU  Name        Persistence-M| Bus-Id        Disp.A | Volatile Uncorr. ECC |\r\n",
      "| Fan  Temp  Perf  Pwr:Usage/Cap|         Memory-Usage | GPU-Util  Compute M. |\r\n",
      "|===============================+======================+======================|\r\n",
      "|   0  GeForce RTX 207...  On   | 00000000:08:00.0 Off |                  N/A |\r\n",
      "| 21%   36C    P8     8W / 215W |    299MiB /  7979MiB |      0%      Default |\r\n",
      "+-------------------------------+----------------------+----------------------+\r\n",
      "|   1  GeForce RTX 207...  On   | 00000000:09:00.0 Off |                  N/A |\r\n",
      "| 28%   59C    P2   105W / 215W |   7979MiB /  7982MiB |     82%      Default |\r\n",
      "+-------------------------------+----------------------+----------------------+\r\n",
      "                                                                               \r\n",
      "+-----------------------------------------------------------------------------+\r\n",
      "| Processes:                                                       GPU Memory |\r\n",
      "|  GPU       PID   Type   Process name                             Usage      |\r\n",
      "|=============================================================================|\r\n",
      "|    0      1162      G   /usr/lib/xorg/Xorg                            24MiB |\r\n",
      "|    0      1250      G   /usr/bin/gnome-shell                          13MiB |\r\n",
      "|    0      2662      G   /usr/lib/xorg/Xorg                           142MiB |\r\n",
      "|    0      2788      G   /usr/bin/gnome-shell                         115MiB |\r\n",
      "|    1     12999      C   python                                      7963MiB |\r\n",
      "+-----------------------------------------------------------------------------+\r\n"
     ]
    }
   ],
   "source": [
    "!nvidia-smi"
   ]
  },
  {
   "cell_type": "code",
   "execution_count": 8,
   "metadata": {
    "colab": {},
    "colab_type": "code",
    "id": "Jt-mpsjf6I_c"
   },
   "outputs": [
    {
     "name": "stdout",
     "output_type": "stream",
     "text": [
      "Traceback (most recent call last):\r\n",
      "  File \"train_hakuna_seasonal-chunks_eff1.py\", line 1, in <module>\r\n",
      "    from assets.utils import *\r\n",
      "ImportError: No module named assets.utils\r\n"
     ]
    }
   ],
   "source": [
    "!python train_hakuna_seasonal-chunks_eff1.py"
   ]
  },
  {
   "cell_type": "code",
   "execution_count": null,
   "metadata": {
    "colab": {},
    "colab_type": "code",
    "id": "Jt-mpsjf6I_c"
   },
   "outputs": [],
   "source": [
    "from assets.utils import *\n",
    "from config import config\n",
    "\n",
    "# torch.cuda.set_device(1)"
   ]
  },
  {
   "cell_type": "code",
   "execution_count": null,
   "metadata": {
    "colab": {},
    "colab_type": "code",
    "id": "Jt-mpsjf6I_c"
   },
   "outputs": [],
   "source": [
    "path = config.DATA_PATH# Change if you have the imagery mounted at a different location\n",
    "train_metadata = pd.read_csv(path+\"train_metadata_with_labels.csv\")\n",
    "train_metadata.index=train_metadata.seq_id\n",
    "train_labels = pd.read_csv(path+\"train_labels.csv\", index_col=\"seq_id\")\n",
    "chunks = pd.read_csv(path+\"train_in_chunks_per_season.csv\", index_col=\"seq_id\")"
   ]
  },
  {
   "cell_type": "code",
   "execution_count": null,
   "metadata": {
    "colab": {},
    "colab_type": "code",
    "id": "Jt-mpsjf6I_c"
   },
   "outputs": [],
   "source": [
    "SZ=(384,512)\n",
    "# SZ=(192,256)"
   ]
  },
  {
   "cell_type": "code",
   "execution_count": null,
   "metadata": {
    "colab": {},
    "colab_type": "code",
    "id": "Jt-mpsjf6I_c"
   },
   "outputs": [],
   "source": [
    "src = (ImageList.from_df(path=path, df=train_metadata, cols=\"file_name\")\n",
    "       .split_none()\n",
    "       .label_from_df(cols='labels', label_delim=';')\n",
    "      )\n",
    "data = (src.transform(get_transforms(max_rotate=5,max_warp=0, max_zoom=1.02,\n",
    "                                     p_affine=.0 , p_lighting=.0,), size=SZ) #512x384\n",
    "        .databunch(bs=16)\n",
    "        .normalize(imagenet_stats))\n",
    "\n",
    "acc_02 = partial(accuracy_thresh, thresh=0.2)\n",
    "f_score = partial(fbeta, thresh=0.2)\n",
    "\n",
    "learn = cnn_learner(data,\n",
    "                    base_arch=get_srx50,\n",
    "                    cut=-2, \n",
    "                    custom_head=Head(512*4,data.c, 0.0),\n",
    "                    model_dir=\"assets/models\",\n",
    "                    bn_wd=False,\n",
    "                    true_wd=True,\n",
    "                    metrics=[acc_02, f_score]\n",
    "               )\n",
    "\n",
    "learn.unfreeze()"
   ]
  },
  {
   "cell_type": "code",
   "execution_count": null,
   "metadata": {
    "colab": {},
    "colab_type": "code",
    "id": "Jt-mpsjf6I_c"
   },
   "outputs": [],
   "source": [
    "# train_metadata = pd.concat([train_metadata.loc[train_metadata.index.str.startswith(\"SER_S\"+str(i))].sample(50) for i in range(1,11)],0)\n",
    "# train_metadata"
   ]
  },
  {
   "cell_type": "code",
   "execution_count": null,
   "metadata": {
    "colab": {},
    "colab_type": "code",
    "id": "Jt-mpsjf6I_c"
   },
   "outputs": [],
   "source": [
    "def train_on_chunk(path, learn, chunk, train_metadata):\n",
    "    \"\"\"\n",
    "    This function enables learning only on a subset of the train set which we refer as chunk. \n",
    "    Chunks are conmprised of mostly one season but could have two or more.\n",
    "    \"\"\"\n",
    "    s7 = train_metadata.drop(chunks[chunks[\"chunk\"]!=chunk].index).copy()\n",
    "    \n",
    "    # The line bellow makes sure everytime we create databunch it will have all 54 classes. \n",
    "    # The noise we introduce this way does not humper learning\n",
    "    s7.labels[-1] = \"aardvark;aardwolf;baboon;bat;batearedfox;buffalo;bushbuck;caracal;cattle;cheetah;civet;dikdik;duiker;eland;elephant;empty;gazellegrants;gazellethomsons;genet;giraffe;guineafowl;hare;hartebeest;hippopotamus;honeybadger;hyenaspotted;hyenastriped;impala;insectspider;jackal;koribustard;leopard;lionfemale;lionmale;mongoose;monkeyvervet;ostrich;otherbird;porcupine;reedbuck;reptiles;rhinoceros;rodents;secretarybird;serval;steenbok;topi;vulture;warthog;waterbuck;wildcat;wildebeest;zebra;zorilla\"\n",
    "    \n",
    "    src = (ImageList.from_df(path=path, df=s7, cols=\"file_name\")\n",
    "           .split_none()\n",
    "           .label_from_df(cols='labels', label_delim=';')\n",
    "          )\n",
    "    data = (src.transform(get_transforms(max_rotate=5,max_warp=0, max_zoom=1.02,\n",
    "                                         p_affine=.0 , p_lighting=.0,), size=SZ) #512x384\n",
    "            .databunch(bs=16)\n",
    "            .normalize(imagenet_stats))\n",
    "    learn.data=data\n",
    "    return learn"
   ]
  },
  {
   "cell_type": "markdown",
   "metadata": {
    "colab": {},
    "colab_type": "code",
    "id": "h19NstxLSWtA"
   },
   "source": [
    "# chunk 1 - Season 7"
   ]
  },
  {
   "cell_type": "code",
   "execution_count": null,
   "metadata": {
    "colab": {},
    "colab_type": "code",
    "id": "h19NstxLSWtA"
   },
   "outputs": [],
   "source": [
    "chunk=1\n",
    "learn = train_on_chunk(path, learn, chunk, train_metadata)\n",
    "\n",
    "learn.fit_one_cycle(1, 3e-5*3,\n",
    "                    pct_start=0.0002, #first 500 epochs slowly increase LR\n",
    "                    div_factor=10, # then anealying to LR/10\n",
    "                           callbacks = [#BnFreeze(learn), \n",
    "                            AccumulateStep(learn,2)\n",
    "                           ])"
   ]
  },
  {
   "cell_type": "markdown",
   "metadata": {
    "colab": {},
    "colab_type": "code",
    "id": "9Vu1D-rJR5WW"
   },
   "source": [
    "# chunk 2 - Seasons 3, 4 and 51"
   ]
  },
  {
   "cell_type": "code",
   "execution_count": null,
   "metadata": {
    "colab": {},
    "colab_type": "code",
    "id": "9Vu1D-rJR5WW"
   },
   "outputs": [],
   "source": [
    "chunk=2\n",
    "learn = train_on_chunk(path, learn, chunk, train_metadata)\n",
    "\n",
    "learn.fit_one_cycle(1, 1e-5*3,\n",
    "                    pct_start=0.0002, #first 500 epochs slowly increase LR\n",
    "                    div_factor=3, # then anealying to LR/10\n",
    "                           callbacks = [#BnFreeze(learn), \n",
    "                            AccumulateStep(learn,4)\n",
    "                           ] )"
   ]
  },
  {
   "cell_type": "markdown",
   "metadata": {
    "colab": {},
    "colab_type": "code",
    "id": "9Vu1D-rJR5WW"
   },
   "source": [
    "# chunk 3 - Seasons 1, 2 and 6"
   ]
  },
  {
   "cell_type": "code",
   "execution_count": null,
   "metadata": {
    "colab": {},
    "colab_type": "code",
    "id": "9Vu1D-rJR5WW"
   },
   "outputs": [],
   "source": [
    "chunk=3\n",
    "learn = train_on_chunk(path, learn, chunk, train_metadata)\n",
    "\n",
    "learn.fit_one_cycle(1, 0.8e-5*3,\n",
    "                    pct_start=0.0002, #first 500 epochs slowly increase LR\n",
    "                    div_factor=3, # then anealying to LR/10\n",
    "                           callbacks = [#BnFreeze(learn), \n",
    "                            AccumulateStep(learn,4)\n",
    "                           ] )"
   ]
  },
  {
   "cell_type": "markdown",
   "metadata": {
    "colab": {},
    "colab_type": "code",
    "id": "9Vu1D-rJR5WW"
   },
   "source": [
    "# chunk 4 - Seasons 5"
   ]
  },
  {
   "cell_type": "code",
   "execution_count": null,
   "metadata": {
    "colab": {},
    "colab_type": "code",
    "id": "9Vu1D-rJR5WW"
   },
   "outputs": [],
   "source": [
    "chunk=4\n",
    "learn = train_on_chunk(path, learn, chunk, train_metadata)\n",
    "\n",
    "learn.fit(1, 0.3e-5*3,\n",
    "                           callbacks = [#BnFreeze(learn), \n",
    "                            AccumulateStep(learn,4)\n",
    "                           ])\n",
    "\n",
    "# learn.save(\"model_b1\")"
   ]
  },
  {
   "cell_type": "markdown",
   "metadata": {
    "colab": {},
    "colab_type": "code",
    "id": "9Vu1D-rJR5WW"
   },
   "source": [
    "# chunk 5 - Seasons 9"
   ]
  },
  {
   "cell_type": "code",
   "execution_count": null,
   "metadata": {
    "colab": {},
    "colab_type": "code",
    "id": "9Vu1D-rJR5WW"
   },
   "outputs": [],
   "source": [
    "chunk=5\n",
    "learn = train_on_chunk(path, learn, chunk, train_metadata)\n",
    "\n",
    "learn.fit_one_cycle(1, 0.2e-5*2,\n",
    "                    pct_start=0.0002, #first 500 epochs slowly increase LR\n",
    "                    div_factor=2, # then anealying to LR/10\n",
    "                           callbacks = [#BnFreeze(learn), \n",
    "                            AccumulateStep(learn,4)\n",
    "                           ] )"
   ]
  },
  {
   "cell_type": "markdown",
   "metadata": {
    "colab": {},
    "colab_type": "code",
    "id": "9Vu1D-rJR5WW"
   },
   "source": [
    "# chunk 6 - Seasons 8"
   ]
  },
  {
   "cell_type": "code",
   "execution_count": null,
   "metadata": {
    "colab": {},
    "colab_type": "code",
    "id": "9Vu1D-rJR5WW"
   },
   "outputs": [],
   "source": [
    "chunk=6\n",
    "learn = train_on_chunk(path, learn, chunk, train_metadata)\n",
    "\n",
    "learn.fit(1, 0.1e-5*2,\n",
    "                           callbacks = [#BnFreeze(learn), \n",
    "                            AccumulateStep(learn,8)\n",
    "                           ] )"
   ]
  },
  {
   "cell_type": "markdown",
   "metadata": {
    "colab": {},
    "colab_type": "code",
    "id": "9Vu1D-rJR5WW"
   },
   "source": [
    "# chunk 7- train further with the same season"
   ]
  },
  {
   "cell_type": "code",
   "execution_count": null,
   "metadata": {},
   "outputs": [],
   "source": [
    "chunk=7\n",
    "learn = train_on_chunk(path, learn, chunk, train_metadata)\n",
    "\n",
    "learn.fit(1, 0.1e-5*2,\n",
    "                           callbacks = [#BnFreeze(learn), \n",
    "                            AccumulateStep(learn,8)\n",
    "                           ] )"
   ]
  },
  {
   "cell_type": "code",
   "execution_count": null,
   "metadata": {},
   "outputs": [],
   "source": [
    "learn = train_on_chunk(path, learn, chunk, train_labels)\n",
    "learn.fit(1, 0.05e-5*2,\n",
    "                           callbacks = [#BnFreeze(learn), \n",
    "                            AccumulateStep(learn,15)\n",
    "                           ]            #accumulate weights every 4 epochs to make effective batch size bigger 16x4=64\n",
    "         )"
   ]
  },
  {
   "cell_type": "code",
   "execution_count": null,
   "metadata": {},
   "outputs": [],
   "source": [
    "learn.save(\"best-thu\")"
   ]
  },
  {
   "cell_type": "markdown",
   "metadata": {
    "colab": {},
    "colab_type": "code",
    "id": "9Vu1D-rJR5WW"
   },
   "source": [
    "# chunk 8 - Seasons 10"
   ]
  },
  {
   "cell_type": "code",
   "execution_count": null,
   "metadata": {
    "colab": {},
    "colab_type": "code",
    "id": "9Vu1D-rJR5WW"
   },
   "outputs": [],
   "source": [
    "chunk=8\n",
    "learn = train_on_chunk(path, learn, chunk, train_labels)\n",
    "\n",
    "learn.fit(1, 0.1e-5,\n",
    "                           callbacks = [#BnFreeze(learn), \n",
    "                            AccumulateStep(learn,8)\n",
    "                           ])"
   ]
  },
  {
   "cell_type": "code",
   "execution_count": null,
   "metadata": {
    "colab": {},
    "colab_type": "code",
    "id": "9Vu1D-rJR5WW"
   },
   "outputs": [],
   "source": [
    "learn.save(\"best-sat-0075\")"
   ]
  },
  {
   "cell_type": "code",
   "execution_count": null,
   "metadata": {},
   "outputs": [],
   "source": []
  }
 ],
 "metadata": {
  "accelerator": "GPU",
  "colab": {
   "collapsed_sections": [
    "rBMaQbRXBdbR",
    "oOQR4fvdB5Nr",
    "9ETNqoIcCE1D",
    "YOqKtpHbFJKU",
    "lOlO0JNMZEZo",
    "_sClLGsqpWcn"
   ],
   "name": "Copy of hakuna_ma_data_starter_fastai.ipynb",
   "provenance": []
  },
  "kernelspec": {
   "display_name": "Python 3",
   "language": "python",
   "name": "python3"
  },
  "language_info": {
   "codemirror_mode": {
    "name": "ipython",
    "version": 3
   },
   "file_extension": ".py",
   "mimetype": "text/x-python",
   "name": "python",
   "nbconvert_exporter": "python",
   "pygments_lexer": "ipython3",
   "version": "3.6.9"
  }
 },
 "nbformat": 4,
 "nbformat_minor": 1
}
